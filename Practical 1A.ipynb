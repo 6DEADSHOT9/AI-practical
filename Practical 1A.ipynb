{
 "cells": [
  {
   "attachments": {},
   "cell_type": "markdown",
   "metadata": {},
   "source": [
    "## Implementation of logical rules in Python.\n",
    "    - WAP to find the unknown values by using logic programming in a very effective way (using commutative and associative property)."
   ]
  },
  {
   "cell_type": "code",
   "execution_count": null,
   "metadata": {},
   "outputs": [],
   "source": [
    "from kanren import run, var, fact \n",
    "from kanren.assoccomm import eq_assoccomm as eq \n",
    "from kanren.assoccomm import commutative, associative \n",
    "add='add' \n",
    "mul='mul' \n",
    "fact(commutative,mul) \n",
    "fact(commutative,add) \n",
    "fact(associative, mul) \n",
    "fact(associative,add) \n",
    "a,b=var('a'), var('b') \n",
    "Original_pattern=(mul,(add,5,a),b) \n",
    "exp1=(mul,2,(add,5,1))\n",
    "exp2=(add,5,(mul,8,1)) \n",
    "print(run(0,(a,b),eq(Original_pattern,exp1))) \n",
    "print(run(0,(a,b),eq(Original_pattern, exp2)))\n"
   ]
  },
  {
   "attachments": {},
   "cell_type": "markdown",
   "metadata": {},
   "source": [
    "## Use colab for output, it won't work anywhere else"
   ]
  }
 ],
 "metadata": {
  "kernelspec": {
   "display_name": "Python 3",
   "language": "python",
   "name": "python3"
  },
  "language_info": {
   "codemirror_mode": {
    "name": "ipython",
    "version": 3
   },
   "file_extension": ".py",
   "mimetype": "text/x-python",
   "name": "python",
   "nbconvert_exporter": "python",
   "pygments_lexer": "ipython3",
   "version": "3.10.5"
  },
  "orig_nbformat": 4
 },
 "nbformat": 4,
 "nbformat_minor": 2
}
