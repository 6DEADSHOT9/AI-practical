{
 "cells": [
  {
   "attachments": {},
   "cell_type": "markdown",
   "metadata": {},
   "source": [
    "## Implementation of logical rules in Python.\n",
    "    - WAP to find the unknown values by using logic programming in a very effective way (using commutative and associative property).\n",
    "    - WAP to check for prime numbers."
   ]
  }
 ],
 "metadata": {
  "language_info": {
   "name": "python"
  },
  "orig_nbformat": 4
 },
 "nbformat": 4,
 "nbformat_minor": 2
}
