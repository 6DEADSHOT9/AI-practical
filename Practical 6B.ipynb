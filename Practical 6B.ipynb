{
 "cells": [
  {
   "attachments": {},
   "cell_type": "markdown",
   "metadata": {},
   "source": [
    "## Write a logic programming paradigm implement using pyDatalog"
   ]
  },
  {
   "cell_type": "code",
   "execution_count": 1,
   "metadata": {},
   "outputs": [
    {
     "name": "stdout",
     "output_type": "stream",
     "text": [
      "X | Y\n",
      "--|--\n",
      "e | d\n",
      "d | e\n",
      "c | b\n",
      "b | c\n",
      "X | Y\n",
      "--|--\n",
      "f | e\n",
      "f | d\n",
      "d | f\n",
      "e | f\n"
     ]
    }
   ],
   "source": [
    "from pyDatalog import pyDatalog as py\n",
    "py.create_terms(\"brother,father,cousin,grandson,descendent,X,Y,Z,W,a,b,c,d,e,f\")\n",
    "+father('a','b')\n",
    "+father('a','c')\n",
    "+father('b','d')\n",
    "+father('b','e')\n",
    "+father('c','f')\n",
    "brother(X,Y) <= (father(Z,X)) & (father(Z,Y)) & ~(X==Y)\n",
    "cousin(X,Y) <= (father(Z,X)) & (father(W,Y)) & (brother(Z,W))\n",
    "grandson(X,Y)<=(father(Y,Z)) & (father(Z,X))\n",
    "descendent(X,Y) <=(father(Y,X))\n",
    "descendent(X,Y) <=(father(Z,X)) & (descendent(Z,X))\n",
    "print(brother(X,Y))\n",
    "print(cousin(X,Y))"
   ]
  }
 ],
 "metadata": {
  "kernelspec": {
   "display_name": "Python 3",
   "language": "python",
   "name": "python3"
  },
  "language_info": {
   "codemirror_mode": {
    "name": "ipython",
    "version": 3
   },
   "file_extension": ".py",
   "mimetype": "text/x-python",
   "name": "python",
   "nbconvert_exporter": "python",
   "pygments_lexer": "ipython3",
   "version": "3.10.5"
  },
  "orig_nbformat": 4
 },
 "nbformat": 4,
 "nbformat_minor": 2
}
