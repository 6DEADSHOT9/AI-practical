{
 "cells": [
  {
   "attachments": {},
   "cell_type": "markdown",
   "metadata": {},
   "source": [
    " ### Implementation of logical rules in Python.\n",
    "    - WAP to check for prime numbers.\n"
   ]
  },
  {
   "cell_type": "code",
   "execution_count": null,
   "metadata": {},
   "outputs": [],
   "source": [
    "from kanren import isvar, run, membero \n",
    "from kanren.core import goaleval, condeseq, success, fail, eq, var\n",
    "from sympy.ntheory.generate import prime, isprime \n",
    "import itertools as it \n",
    "def prime_check(x):\n",
    "  if isvar(x): \n",
    "    \n",
    "    return condeseq([(eq,x,p)] for p in map(prime, it.count(1)))\n",
    "  else: \n",
    "    return success if isprime(x) else fail \n",
    "x = var() \n",
    "print((set(run(0,x,(membero,x,(12,14,15,19,20,21,22,23,29,30,41,44,52,62,65,85)), (prime_check,x))))) \n",
    "print((run(10,x,prime_check(x)))) \n"
   ]
  },
  {
   "attachments": {},
   "cell_type": "markdown",
   "metadata": {},
   "source": [
    "Output:   \n",
    "{41, 19, 29, 23} \n",
    "(2, 3, 5, 7, 11, 13, 17, 19, 23, 29)  \n",
    "# Bekar purana code diya tha teacher ne kahi nahi chalega. Output ratt lo"
   ]
  }
 ],
 "metadata": {
  "kernelspec": {
   "display_name": "Python 3",
   "language": "python",
   "name": "python3"
  },
  "language_info": {
   "codemirror_mode": {
    "name": "ipython",
    "version": 3
   },
   "file_extension": ".py",
   "mimetype": "text/x-python",
   "name": "python",
   "nbconvert_exporter": "python",
   "pygments_lexer": "ipython3",
   "version": "3.10.5"
  },
  "orig_nbformat": 4
 },
 "nbformat": 4,
 "nbformat_minor": 2
}
