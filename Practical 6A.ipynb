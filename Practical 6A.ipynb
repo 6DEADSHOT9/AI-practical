{
 "cells": [
  {
   "attachments": {},
   "cell_type": "markdown",
   "metadata": {},
   "source": [
    "## To solve a basic programming problem using pyDatalog"
   ]
  },
  {
   "cell_type": "code",
   "execution_count": 1,
   "metadata": {},
   "outputs": [
    {
     "name": "stdout",
     "output_type": "stream",
     "text": [
      "X  \n",
      "---\n",
      "Cat\n"
     ]
    }
   ],
   "source": [
    "from pyDatalog import pyDatalog\n",
    "#pyDatalog has inbuilt function to create terms which belong to facts and rules.\n",
    "pyDatalog.create_terms('Bear,Elephant,Cat,Black,Gray,Brown,Big,small,size,color,X,Y,dark')\n",
    "#Notify given relation\n",
    "+size(\"Bear\",\"Big\")\n",
    "+size(\"Elephant\",\"Big\")\n",
    "+size(\"Cat\",\"small\")\n",
    "+color(\"Bear\",\"Brown\")\n",
    "+color(\"Cat\",\"Black\")\n",
    "+color(\"Elephant\",\"Gray\")\n",
    "#Declaring relation, print dark of X and size of X should be big\n",
    "dark(X) <= (color(X,\"Black\"))\n",
    "dark(X) <= (color(X,\"Brown\"))\n",
    "print(dark(X) &(size(X,'small')))"
   ]
  }
 ],
 "metadata": {
  "kernelspec": {
   "display_name": "Python 3",
   "language": "python",
   "name": "python3"
  },
  "language_info": {
   "codemirror_mode": {
    "name": "ipython",
    "version": 3
   },
   "file_extension": ".py",
   "mimetype": "text/x-python",
   "name": "python",
   "nbconvert_exporter": "python",
   "pygments_lexer": "ipython3",
   "version": "3.10.5"
  },
  "orig_nbformat": 4
 },
 "nbformat": 4,
 "nbformat_minor": 2
}
