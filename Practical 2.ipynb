{
 "cells": [
  {
   "attachments": {},
   "cell_type": "markdown",
   "metadata": {},
   "source": [
    "### WAP to solve puzzles.(open-ended)"
   ]
  },
  {
   "cell_type": "code",
   "execution_count": null,
   "metadata": {},
   "outputs": [],
   "source": [
    "from kanren import * \n",
    "from kanren.core import lall \n",
    "import time \n",
    "def left(q, p, list):\n",
    "  return membero((q,p), zip(list, list[1:])) \n",
    "def next(q, p, list):\n",
    "  return conde([left(q, p, list)], [left(p, q, list)])\n",
    "\n",
    "houses = var() \n",
    "rules_zebraproblem = lall(\n",
    "    (eq, (var(), var(), var(), var(), var()), houses),\n",
    "     (membero,('Englishman', var(), var(), var(), 'red'), houses),\n",
    "     (membero,('Swede', var(), var(), 'dog', var()), houses),\n",
    "     (membero,('Dane', var(), 'tea', var(), var()), houses), \n",
    " (left,(var(), var(), var(), var(), 'green'), \n",
    " (var(), var(), var(), var(), 'white'), houses), \n",
    " (membero,(var(), var(), 'coffee', var(), 'green'), houses), \n",
    " (membero,(var(), 'Pall Mall', var(), 'birds', var()), houses), \n",
    " (membero,(var(), 'Dunhill', var(), var(), 'yellow'), houses), \n",
    " (eq,(var(), var(), (var(), var(), 'milk', var(), var()), var(), var()), houses),\n",
    "  (eq,(('Norwegian', var(), var(), var(), var()), var(), var(), var(), var()), houses),\n",
    "   (next,(var(), 'Blend', var(), var(), var()), \n",
    "\t (var(), var(), var(), 'cats', var()), houses),\n",
    "\t (next,(var(), 'Dunhill', var(), var(), var()),\n",
    "   (var(), var(), var(), 'horse', var()), houses),\n",
    "    (membero,(var(), 'Blue Master', 'beer', var(), var()), houses),\n",
    "    (membero,('German', 'Prince', var(), var(), var()), houses), \n",
    "\t (next,('Norwegian', var(), var(), var(), var()), \n",
    "\t (var(), var(), var(), var(), 'blue'), houses), \n",
    "\t (next,(var(), 'Blend', var(), var(), var()), \n",
    "\t (var(), var(), 'water', var(), var()), houses), \n",
    "\t (membero,(var(), var(), var(), 'zebra', var()), houses) \n",
    ") \n",
    "# solutions = run(0,houses,rules_zebraproblem) \n",
    "output_zebra = [house for house in solutions[0] if 'zebra' in house][0][0]\n",
    "print('\\n'+ output_zebra + ' owns zebra')\n"
   ]
  },
  {
   "attachments": {},
   "cell_type": "markdown",
   "metadata": {},
   "source": [
    "Output:\n",
    "German owns zebra \n",
    "\n",
    "# Yhe bhi bekar purana code diya tha teacher ne kahi nahi chalega. Output ratt lo"
   ]
  }
 ],
 "metadata": {
  "kernelspec": {
   "display_name": "Python 3",
   "language": "python",
   "name": "python3"
  },
  "language_info": {
   "codemirror_mode": {
    "name": "ipython",
    "version": 3
   },
   "file_extension": ".py",
   "mimetype": "text/x-python",
   "name": "python",
   "nbconvert_exporter": "python",
   "pygments_lexer": "ipython3",
   "version": "3.10.5"
  },
  "orig_nbformat": 4
 },
 "nbformat": 4,
 "nbformat_minor": 2
}
